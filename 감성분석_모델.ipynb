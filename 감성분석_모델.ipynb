{
  "nbformat": 4,
  "nbformat_minor": 0,
  "metadata": {
    "colab": {
      "provenance": [],
      "mount_file_id": "1wzBQsxM9jSw7Omr8TcI4qJMo9SKorTrF",
      "authorship_tag": "ABX9TyMaLPXHTCnAqX53nk2dr4Mp",
      "include_colab_link": true
    },
    "kernelspec": {
      "name": "python3",
      "display_name": "Python 3"
    },
    "language_info": {
      "name": "python"
    }
  },
  "cells": [
    {
      "cell_type": "markdown",
      "metadata": {
        "id": "view-in-github",
        "colab_type": "text"
      },
      "source": [
        "<a href=\"https://colab.research.google.com/github/blade-git/Hotel-Review-Sentiment-Analysis/blob/main/%EA%B0%90%EC%84%B1%EB%B6%84%EC%84%9D_%EB%AA%A8%EB%8D%B8.ipynb\" target=\"_parent\"><img src=\"https://colab.research.google.com/assets/colab-badge.svg\" alt=\"Open In Colab\"/></a>"
      ]
    },
    {
      "cell_type": "code",
      "execution_count": null,
      "metadata": {
        "colab": {
          "base_uri": "https://localhost:8080/"
        },
        "id": "U9Y0TdSphlNC",
        "outputId": "acf1ae7a-dcf1-4f16-b913-7c9dbc03353b"
      },
      "outputs": [
        {
          "output_type": "stream",
          "name": "stderr",
          "text": [
            "/usr/local/lib/python3.10/dist-packages/ipykernel/ipkernel.py:283: DeprecationWarning: `should_run_async` will not call `transform_cell` automatically in the future. Please pass the result to `transformed_cell` argument and any exception that happen during thetransform in `preprocessing_exc_tuple` in IPython 7.17 and above.\n",
            "  and should_run_async(code)\n"
          ]
        },
        {
          "output_type": "stream",
          "name": "stdout",
          "text": [
            "Requirement already satisfied: vaderSentiment in /usr/local/lib/python3.10/dist-packages (3.3.2)\n",
            "Requirement already satisfied: requests in /usr/local/lib/python3.10/dist-packages (from vaderSentiment) (2.32.3)\n",
            "Requirement already satisfied: charset-normalizer<4,>=2 in /usr/local/lib/python3.10/dist-packages (from requests->vaderSentiment) (3.4.0)\n",
            "Requirement already satisfied: idna<4,>=2.5 in /usr/local/lib/python3.10/dist-packages (from requests->vaderSentiment) (3.10)\n",
            "Requirement already satisfied: urllib3<3,>=1.21.1 in /usr/local/lib/python3.10/dist-packages (from requests->vaderSentiment) (2.2.3)\n",
            "Requirement already satisfied: certifi>=2017.4.17 in /usr/local/lib/python3.10/dist-packages (from requests->vaderSentiment) (2024.8.30)\n"
          ]
        }
      ],
      "source": [
        "pip install vaderSentiment"
      ]
    },
    {
      "cell_type": "markdown",
      "source": [
        "**<라이브러리 임포트>**\n",
        "\n",
        "\n",
        "*   pandas : 데이터를 불러오고 처리하기 위한 라이브러리.\n",
        "*   CountVectorizer : 텍스트 데이터를 벡터화(문서-단어 행렬 생성)하기 위한 도구. LDA 모델 학습에 필요한 입력 데이터를 생성.\n",
        "*   LatentDirichletAllocation : LDA 알고리즘을 구현한 클래스. 문서에서 숨겨진 주제를 추출하는 데 사용.\n",
        "*   nltk & stopwords : 텍스트 전처리에 사용. 불용어(stopwords)를 제거하여 LDA 모델이 의미 있는 단어에 초점을 맞춤.\n",
        "\n",
        "\n",
        "\n",
        "\n",
        "\n",
        "\n"
      ],
      "metadata": {
        "id": "d3dwrMEi9Zd_"
      }
    },
    {
      "cell_type": "code",
      "source": [
        "import pandas as pd\n",
        "from sklearn.feature_extraction.text import CountVectorizer\n",
        "from sklearn.decomposition import LatentDirichletAllocation\n",
        "import nltk\n",
        "from nltk.corpus import stopwords"
      ],
      "metadata": {
        "id": "mV0d8QFevihe",
        "colab": {
          "base_uri": "https://localhost:8080/"
        },
        "outputId": "c68c9316-100f-4fed-b5e8-2b3a4764639c"
      },
      "execution_count": null,
      "outputs": [
        {
          "output_type": "stream",
          "name": "stderr",
          "text": [
            "/usr/local/lib/python3.10/dist-packages/ipykernel/ipkernel.py:283: DeprecationWarning: `should_run_async` will not call `transform_cell` automatically in the future. Please pass the result to `transformed_cell` argument and any exception that happen during thetransform in `preprocessing_exc_tuple` in IPython 7.17 and above.\n",
            "  and should_run_async(code)\n"
          ]
        }
      ]
    },
    {
      "cell_type": "markdown",
      "source": [
        "**<NLTK 불용어(stopwords) 리스트 다운로드>**\n",
        "\n",
        "\n",
        "1.   nltk.download('stopwords') :\n",
        "\n",
        "\n",
        "*   NLTK에서 제공하는 불용어(stopwords) 리스트를 다운로드.\n",
        "*   불용어란 텍스트 분석에서 의미를 추가하지 않는 단어(\"the\", \"is\", \"in\")들을 말함.\n",
        "\n",
        "\n",
        "2.   stop_words = stopwords.words('english') :\n",
        "\n",
        "\n",
        "*   NLTK가 제공하는 영어 불용어 리스트를 불러와서 stop_words 변수에 저장.\n",
        "*   이 리스트에는 텍스트 분석에 불필요한 단어들이 포함되어 있으며, 주로 텍스트 전처리 과정에서 제거.\n",
        "\n",
        "\n",
        "\n"
      ],
      "metadata": {
        "id": "uaGzUkcpHBXU"
      }
    },
    {
      "cell_type": "code",
      "source": [
        "# NLTK 불용어 리스트 다운로드\n",
        "nltk.download('stopwords')\n",
        "stop_words = stopwords.words('english')"
      ],
      "metadata": {
        "colab": {
          "base_uri": "https://localhost:8080/"
        },
        "id": "t-sOwE-_vkqU",
        "outputId": "b7003090-c24d-457b-8da4-bc16be979090"
      },
      "execution_count": null,
      "outputs": [
        {
          "output_type": "stream",
          "name": "stderr",
          "text": [
            "/usr/local/lib/python3.10/dist-packages/ipykernel/ipkernel.py:283: DeprecationWarning: `should_run_async` will not call `transform_cell` automatically in the future. Please pass the result to `transformed_cell` argument and any exception that happen during thetransform in `preprocessing_exc_tuple` in IPython 7.17 and above.\n",
            "  and should_run_async(code)\n",
            "[nltk_data] Downloading package stopwords to /root/nltk_data...\n",
            "[nltk_data]   Package stopwords is already up-to-date!\n"
          ]
        }
      ]
    },
    {
      "cell_type": "code",
      "source": [
        "# 데이터 불러오기\n",
        "data = pd.read_csv('/content/drive/MyDrive/tripadvisor_hotel_reviews.csv')  # 파일 경로에 맞게 수정"
      ],
      "metadata": {
        "id": "wNPQi-NXvoDo",
        "colab": {
          "base_uri": "https://localhost:8080/"
        },
        "outputId": "312ee3b5-44f9-4fe1-d0b6-65cab756e019"
      },
      "execution_count": null,
      "outputs": [
        {
          "output_type": "stream",
          "name": "stderr",
          "text": [
            "/usr/local/lib/python3.10/dist-packages/ipykernel/ipkernel.py:283: DeprecationWarning: `should_run_async` will not call `transform_cell` automatically in the future. Please pass the result to `transformed_cell` argument and any exception that happen during thetransform in `preprocessing_exc_tuple` in IPython 7.17 and above.\n",
            "  and should_run_async(code)\n"
          ]
        }
      ]
    },
    {
      "cell_type": "markdown",
      "source": [
        "**<토픽모델링 수행 과정>**\n",
        "\n",
        "\n",
        "1.   텍스트 전처리\n",
        "\n",
        "\n",
        "*   Review 컬럼의 텍스트 데이터를 소문자로 변환하고, 특수문자 등을 제거하여 Cleaned_Review 컬럼에 저장.\n",
        "*   데이터 정제를 통해 분석의 정확성을 높임.\n",
        "\n",
        "\n",
        "2.   문서-단어 행렬 생성\n",
        "\n",
        "\n",
        "*   CountVectorizer를 사용해 문서-단어 행렬을 생성.\n",
        "*   불용어를 제거하고 상위 1,000개의 단어를 선택하여 문서-단어 행렬을 생성.\n",
        "\n",
        "\n",
        "3.   LDA 모델 학습\n",
        "\n",
        "\n",
        "*   LatentDirichletAllocation 클래스의 인스턴스를 생성하고, 문서-단어 행렬로 학습시켜 5개의 주제를 도출.\n",
        "*   주제의 개수를 5개로 설정하고 결과 재현성을 보장하기 위해 난수 시드를 설정.\n",
        "*   각 문서가 속하는 주제 확률 분포와 각 주제를 구성하는 단어들의 확률 분포를 학습.\n",
        "\n",
        "\n",
        "4.   각 주제에 포함된 단어 출력\n",
        "\n",
        "\n",
        "*   문서-단어 행렬의 단어 리스트를 반환하여 각 주제에서 확률이 높은 상위 10개의 단어를 추출.\n",
        "*   각 주제를 대표하는 주요 단어들을 출력.\n",
        "\n",
        "\n",
        "\n",
        "\n",
        "\n",
        "\n",
        "\n",
        "\n",
        "\n"
      ],
      "metadata": {
        "id": "Rk5duEN9Okzc"
      }
    },
    {
      "cell_type": "code",
      "source": [
        "# 1. 텍스트 전처리\n",
        "# 리뷰 텍스트를 소문자로 변환하고, 불용어 제거 및 토큰화\n",
        "data['Cleaned_Review'] = data['Review'].str.lower().replace('[^\\w\\s]', '', regex=True)"
      ],
      "metadata": {
        "id": "_mtaXqWGvvfd",
        "colab": {
          "base_uri": "https://localhost:8080/"
        },
        "outputId": "b23121de-4f26-4f21-91b7-977b32efc47a"
      },
      "execution_count": null,
      "outputs": [
        {
          "output_type": "stream",
          "name": "stderr",
          "text": [
            "/usr/local/lib/python3.10/dist-packages/ipykernel/ipkernel.py:283: DeprecationWarning: `should_run_async` will not call `transform_cell` automatically in the future. Please pass the result to `transformed_cell` argument and any exception that happen during thetransform in `preprocessing_exc_tuple` in IPython 7.17 and above.\n",
            "  and should_run_async(code)\n",
            "<>:3: DeprecationWarning: invalid escape sequence '\\w'\n",
            "<>:3: DeprecationWarning: invalid escape sequence '\\w'\n",
            "<ipython-input-28-aca5e5c0fa7b>:3: DeprecationWarning: invalid escape sequence '\\w'\n",
            "  data['Cleaned_Review'] = data['Review'].str.lower().replace('[^\\w\\s]', '', regex=True)\n"
          ]
        }
      ]
    },
    {
      "cell_type": "code",
      "source": [
        "# 2. 문서-단어 행렬 생성\n",
        "# CountVectorizer를 사용해 텍스트 데이터를 벡터화\n",
        "vectorizer = CountVectorizer(stop_words=stop_words, max_features=1000)\n",
        "doc_term_matrix = vectorizer.fit_transform(data['Cleaned_Review'])"
      ],
      "metadata": {
        "id": "1OQp4CKGv0dF",
        "colab": {
          "base_uri": "https://localhost:8080/"
        },
        "outputId": "30da3e3f-c426-4e6d-c2df-f4eb7c4ab73a"
      },
      "execution_count": null,
      "outputs": [
        {
          "output_type": "stream",
          "name": "stderr",
          "text": [
            "/usr/local/lib/python3.10/dist-packages/ipykernel/ipkernel.py:283: DeprecationWarning: `should_run_async` will not call `transform_cell` automatically in the future. Please pass the result to `transformed_cell` argument and any exception that happen during thetransform in `preprocessing_exc_tuple` in IPython 7.17 and above.\n",
            "  and should_run_async(code)\n"
          ]
        }
      ]
    },
    {
      "cell_type": "code",
      "source": [
        "# 3. LDA 모델 학습\n",
        "# 주제 수는 임의로 5로 설정 (필요 시 변경 가능)\n",
        "lda_model = LatentDirichletAllocation(n_components=5, random_state=42)\n",
        "lda_model.fit(doc_term_matrix)\n",
        "\n",
        "# 각 문서에 대한 토픽 예측\n",
        "topic_predictions = lda_model.transform(doc_term_matrix)\n",
        "\n",
        "# 데이터프레임에 토픽 열 추가\n",
        "data['Topic'] = topic_predictions.argmax(axis=1)"
      ],
      "metadata": {
        "colab": {
          "base_uri": "https://localhost:8080/"
        },
        "id": "PJBnkGjNv25U",
        "outputId": "58d43ec7-2346-4a74-aed1-d9b3c252cd75"
      },
      "execution_count": null,
      "outputs": [
        {
          "output_type": "stream",
          "name": "stderr",
          "text": [
            "/usr/local/lib/python3.10/dist-packages/ipykernel/ipkernel.py:283: DeprecationWarning: `should_run_async` will not call `transform_cell` automatically in the future. Please pass the result to `transformed_cell` argument and any exception that happen during thetransform in `preprocessing_exc_tuple` in IPython 7.17 and above.\n",
            "  and should_run_async(code)\n"
          ]
        }
      ]
    },
    {
      "cell_type": "code",
      "source": [
        "# 4. 각 주제에 포함된 단어 출력\n",
        "words = vectorizer.get_feature_names_out()\n",
        "for topic_idx, topic in enumerate(lda_model.components_):\n",
        "    print(f\"Topic {topic_idx + 1}: \", [words[i] for i in topic.argsort()[-10:]])"
      ],
      "metadata": {
        "colab": {
          "base_uri": "https://localhost:8080/"
        },
        "id": "YzqaR7X7v5he",
        "outputId": "cfc55247-37ec-4a56-83a3-e2ae73acf77e"
      },
      "execution_count": null,
      "outputs": [
        {
          "output_type": "stream",
          "name": "stdout",
          "text": [
            "Topic 1:  ['room', 'service', 'area', 'good', 'food', 'nice', 'great', 'beach', 'hotel', 'pool']\n",
            "Topic 2:  ['like', 'staff', 'rooms', 'service', 'desk', 'night', 'stay', 'nt', 'hotel', 'room']\n",
            "Topic 3:  ['rooms', 'helpful', 'friendly', 'stayed', 'room', 'location', 'stay', 'staff', 'great', 'hotel']\n",
            "Topic 4:  ['rooms', 'clean', 'walk', 'nice', 'breakfast', 'great', 'location', 'good', 'room', 'hotel']\n",
            "Topic 5:  ['room', 'day', 'people', 'time', 'great', 'good', 'food', 'nt', 'beach', 'resort']\n"
          ]
        },
        {
          "output_type": "stream",
          "name": "stderr",
          "text": [
            "/usr/local/lib/python3.10/dist-packages/ipykernel/ipkernel.py:283: DeprecationWarning: `should_run_async` will not call `transform_cell` automatically in the future. Please pass the result to `transformed_cell` argument and any exception that happen during thetransform in `preprocessing_exc_tuple` in IPython 7.17 and above.\n",
            "  and should_run_async(code)\n"
          ]
        }
      ]
    },
    {
      "cell_type": "code",
      "source": [
        "from vaderSentiment.vaderSentiment import SentimentIntensityAnalyzer\n",
        "import pandas as pd"
      ],
      "metadata": {
        "colab": {
          "base_uri": "https://localhost:8080/"
        },
        "id": "mi1AsMfugfS_",
        "outputId": "a6173e35-523e-4914-c96f-e02f141878c5"
      },
      "execution_count": null,
      "outputs": [
        {
          "output_type": "stream",
          "name": "stderr",
          "text": [
            "/usr/local/lib/python3.10/dist-packages/ipykernel/ipkernel.py:283: DeprecationWarning: `should_run_async` will not call `transform_cell` automatically in the future. Please pass the result to `transformed_cell` argument and any exception that happen during thetransform in `preprocessing_exc_tuple` in IPython 7.17 and above.\n",
            "  and should_run_async(code)\n"
          ]
        }
      ]
    },
    {
      "cell_type": "code",
      "source": [
        "# VADER 감성 분석 초기화\n",
        "analyzer = SentimentIntensityAnalyzer()"
      ],
      "metadata": {
        "colab": {
          "base_uri": "https://localhost:8080/"
        },
        "id": "Q_XhpMcugfq-",
        "outputId": "7748b62b-4ab2-4f13-ffb3-b0dbdf145bb9"
      },
      "execution_count": null,
      "outputs": [
        {
          "output_type": "stream",
          "name": "stderr",
          "text": [
            "/usr/local/lib/python3.10/dist-packages/ipykernel/ipkernel.py:283: DeprecationWarning: `should_run_async` will not call `transform_cell` automatically in the future. Please pass the result to `transformed_cell` argument and any exception that happen during thetransform in `preprocessing_exc_tuple` in IPython 7.17 and above.\n",
            "  and should_run_async(code)\n"
          ]
        }
      ]
    },
    {
      "cell_type": "markdown",
      "source": [
        "**1. VADER 감성 분석**\n",
        "\n",
        "\n",
        "*   각 리뷰에 대해 compound 점수를 계산하고, 이를 기준으로 긍정(Positive), 부정(Negative), 중립(Neutral) 감정을 분류.\n",
        "*   분류 기준 : score > 0.05면 긍정적(Positive), score < 0.05면 부정적(Negative), 그 외는 중립적(Neutral).\n",
        "\n"
      ],
      "metadata": {
        "id": "DDMa4885kyG_"
      }
    },
    {
      "cell_type": "code",
      "source": [
        "# 1. VADER 감성 분석 수행\n",
        "# 각 리뷰에 대해 감성 점수(Compound) 계산 및 감정 분류\n",
        "def get_sentiment(score):\n",
        "    if score > 0.05:\n",
        "        return 'Positive'\n",
        "    elif score < -0.05:\n",
        "        return 'Negative'\n",
        "    else:\n",
        "        return 'Neutral'\n",
        "\n",
        "# VADER 감성 점수 및 감정 레이블 추가\n",
        "data['VADER_Score'] = data['Review'].apply(lambda review: analyzer.polarity_scores(review)['compound'])\n",
        "data['Sentiment'] = data['VADER_Score'].apply(get_sentiment)"
      ],
      "metadata": {
        "colab": {
          "base_uri": "https://localhost:8080/"
        },
        "id": "hrHLDWjQgi4S",
        "outputId": "2634590c-b17d-4d46-e30b-c3acd1d312b7"
      },
      "execution_count": null,
      "outputs": [
        {
          "output_type": "stream",
          "name": "stderr",
          "text": [
            "/usr/local/lib/python3.10/dist-packages/ipykernel/ipkernel.py:283: DeprecationWarning: `should_run_async` will not call `transform_cell` automatically in the future. Please pass the result to `transformed_cell` argument and any exception that happen during thetransform in `preprocessing_exc_tuple` in IPython 7.17 and above.\n",
            "  and should_run_async(code)\n"
          ]
        }
      ]
    },
    {
      "cell_type": "markdown",
      "source": [
        "**2. 주제별 감정 분석 결과 요약**\n",
        "\n",
        "\n",
        "*   LDA 토픽 모델링에서 도출된 주제(Topic) 별로 감정 분류 결과를 집계.\n",
        "*   주제별로 리뷰의 긍정/부정 비율을 계산하여, 각 주제의 감정 분포를 정량적으로 확인.\n",
        "\n"
      ],
      "metadata": {
        "id": "zLhXokuQmIYd"
      }
    },
    {
      "cell_type": "code",
      "source": [
        "# 2. 주제별 감정 분석 결과 요약\n",
        "# 주제와 감정별로 리뷰 수를 집계\n",
        "topic_sentiment_summary = data.groupby(['Topic', 'Sentiment']).size().unstack(fill_value=0)\n",
        "\n",
        "# 각 주제별 리뷰 총합 계산\n",
        "topic_sentiment_summary['Total'] = topic_sentiment_summary.sum(axis=1)\n",
        "\n",
        "# 긍정 및 부정 비율 계산\n",
        "topic_sentiment_summary['Positive_Percentage'] = (topic_sentiment_summary['Positive'] / topic_sentiment_summary['Total']) * 100\n",
        "topic_sentiment_summary['Negative_Percentage'] = (topic_sentiment_summary['Negative'] / topic_sentiment_summary['Total']) * 100"
      ],
      "metadata": {
        "colab": {
          "base_uri": "https://localhost:8080/"
        },
        "id": "8l9lmm94glvD",
        "outputId": "687e487a-0876-4361-8af0-d0cd644936e5"
      },
      "execution_count": null,
      "outputs": [
        {
          "output_type": "stream",
          "name": "stderr",
          "text": [
            "/usr/local/lib/python3.10/dist-packages/ipykernel/ipkernel.py:283: DeprecationWarning: `should_run_async` will not call `transform_cell` automatically in the future. Please pass the result to `transformed_cell` argument and any exception that happen during thetransform in `preprocessing_exc_tuple` in IPython 7.17 and above.\n",
            "  and should_run_async(code)\n"
          ]
        }
      ]
    },
    {
      "cell_type": "markdown",
      "source": [
        "**3. 결과 출력**\n",
        "\n",
        "\n",
        "*   주제별 감정 분포 테이블 출력.\n",
        "*   각 주제에서 긍정 리뷰 수(Positive), 부정 리뷰 수(Negative), 중립 리뷰 수(Neutral), 긍정/부정 비율(%)이 포함.\n",
        "\n",
        "**Topic 0 - 호텔 시설 및 환경**\n",
        "\n",
        "*   **긍정 비율** : 95.97%\n",
        "*   **부정 비율** : 3.67%\n",
        "*   **주요 단어** : room, service, area, food, pool, beach, nice, good\n",
        "*   호텔의 편의시설과 주변환경에 대한 고객의 평가를 반영하였으며, 고객들은 객실, 서비스, 수영장, 해변, 음식에 대해 매우 긍정적인 반응을 보이고 있음.\n",
        "\n",
        "\n",
        "**Topic 1 - 객실 상태 및 서비스 품질**\n",
        "\n",
        "\n",
        "*   **긍정 비율** : 68.77%\n",
        "*   **부정 비율** : 29.51%\n",
        "*   **주요 단어** : room, staff, service, desk, stay, night, hotel\n",
        "*   고객들이 객실 상태와 직원 서비스에 대해 평가한 주제로, 부정적 비율이 상대적으로 높아 객실 상태나 서비스 품질에 대한 고객 불만이 존재하고 있음.\n",
        "\n",
        "\n",
        "**Topic 2 - 직원 친절도와 위치**\n",
        "\n",
        "\n",
        "*   **긍정 비율** : 99.22%\n",
        "*   **부정 비율** : 0.66%\n",
        "*   **주요 단어** : friendly, helpful, location, staff, great, stay, hotel\n",
        "*   직원의 친절함과 호텔 위치에 대해 평가한 주제로, 고객들이 직원의 서비스 태도와 호텔 위치에 대해 매우 긍정적인 반응을 보이고 있음.\n",
        "\n",
        "\n",
        "**Topic 3 - 청결도와 아침 식사 품질**\n",
        "\n",
        "\n",
        "*   **긍정 비율** : 97.10%\n",
        "*   **부정 비율** : 2.62%\n",
        "*   **주요 단어** : clean, breakfast, nice, good, location, room\n",
        "*   객실 청결도와 아침 식사 품질에 대해 평가한 주제로, 긍정적 비율이 높아 전반적으로 고객들이 만족하는 반응을 보이고 있음.\n",
        "\n",
        "\n",
        "**Topic 4 - 전반적인 고객 경험 및 휴식**\n",
        "\n",
        "\n",
        "*   **긍정 비율** : 94.28%\n",
        "*   **부정 비율** : 5.50%\n",
        "*   **주요 단어** : day, time, people, beach, good, great, room\n",
        "*   고객들이 호텔에서의 전체적인 경험(휴식, 환경, 서비스)을 다룬 주제로, 주제에서 긍정적인 평가가 우세하며, 고객들이 대체로 호텔에서 편안한 시간을 보냈음을 나타내고 있음.\n",
        "\n",
        "\n",
        "\n",
        "\n",
        "\n",
        "\n",
        "\n",
        "\n",
        "\n",
        "\n",
        "\n",
        "\n"
      ],
      "metadata": {
        "id": "WBZBNiIcnhH2"
      }
    },
    {
      "cell_type": "code",
      "source": [
        "# 3. 결과 출력\n",
        "print(\"\\n주제별 감정 분석 요약:\")\n",
        "print(topic_sentiment_summary)"
      ],
      "metadata": {
        "colab": {
          "base_uri": "https://localhost:8080/"
        },
        "id": "8XtOZwVOgi6i",
        "outputId": "861be0a6-2854-4ebd-8bae-bb6f7b629096"
      },
      "execution_count": null,
      "outputs": [
        {
          "output_type": "stream",
          "name": "stdout",
          "text": [
            "\n",
            "주제별 감정 분석 요약:\n",
            "Sentiment  Negative  Neutral  Positive  Total  Positive_Percentage  \\\n",
            "Topic                                                                \n",
            "0                52        5      1359   1416            95.974576   \n",
            "1              1051       61      2449   3561            68.772817   \n",
            "2                36        6      5377   5419            99.224949   \n",
            "3               179       19      6643   6841            97.105686   \n",
            "4               179        7      3068   3254            94.283958   \n",
            "\n",
            "Sentiment  Negative_Percentage  \n",
            "Topic                           \n",
            "0                     3.672316  \n",
            "1                    29.514181  \n",
            "2                     0.664329  \n",
            "3                     2.616577  \n",
            "4                     5.500922  \n"
          ]
        },
        {
          "output_type": "stream",
          "name": "stderr",
          "text": [
            "/usr/local/lib/python3.10/dist-packages/ipykernel/ipkernel.py:283: DeprecationWarning: `should_run_async` will not call `transform_cell` automatically in the future. Please pass the result to `transformed_cell` argument and any exception that happen during thetransform in `preprocessing_exc_tuple` in IPython 7.17 and above.\n",
            "  and should_run_async(code)\n"
          ]
        }
      ]
    },
    {
      "cell_type": "code",
      "source": [],
      "metadata": {
        "id": "1l9JnCWP0WLi"
      },
      "execution_count": null,
      "outputs": []
    }
  ]
}